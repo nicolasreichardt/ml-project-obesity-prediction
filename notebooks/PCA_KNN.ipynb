{
 "cells": [
  {
   "cell_type": "code",
   "execution_count": null,
   "id": "923e7b94",
   "metadata": {},
   "outputs": [],
   "source": [
    "# Feature Reduction Candidates: 'age' and 'height_m'\n",
    "# Based on our EDA, the following variables may be considered for removal due to limited predictive value:\n",
    "\n",
    "# 1. 'age':\n",
    "#    - Shows a slight increase with higher obesity levels, but with significant overlap across all categories.\n",
    "#    - Likely adds little discriminative power in KNN's distance-based calculations.\n",
    "\n",
    "# 2. 'height_m':\n",
    "#    - Varies very little across obesity levels.\n",
    "#    - Since 'weight_kg' already captures size-related information, 'height_m' may be redundant or uninformative.\n",
    "\n",
    "# We could test KNN performance without these variables in a second step to determine whether excluding them improves model simplicity\n",
    "# without sacrificing accuracy."
   ]
  },
  {
   "cell_type": "markdown",
   "id": "2c5a9654",
   "metadata": {},
   "source": [
    "## Imports"
   ]
  },
  {
   "cell_type": "code",
   "execution_count": 5,
   "id": "9db88fd4",
   "metadata": {},
   "outputs": [],
   "source": [
    "# Load required libraries\n",
    "\n",
    "import pandas as pd\n",
    "import numpy as np\n",
    "\n",
    "from sklearn.preprocessing import OrdinalEncoder, StandardScaler\n",
    "from sklearn.neighbors import KNeighborsClassifier\n",
    "from sklearn.decomposition import PCA\n",
    "from sklearn.metrics import accuracy_score, confusion_matrix\n",
    "from sklearn.model_selection import cross_val_score\n",
    "from sklearn.model_selection import train_test_split\n",
    "import matplotlib.pyplot as plt\n",
    "import seaborn as sns\n",
    "import os"
   ]
  },
  {
   "cell_type": "code",
   "execution_count": 6,
   "id": "357dc4fa",
   "metadata": {},
   "outputs": [],
   "source": [
    "# Define target and features\n",
    "y = df[\"obesity_level\"]\n",
    "X = df.drop(columns=[\"obesity_level\"])\n",
    "\n",
    "# Load the dataset\n",
    "# Load data\n",
    "file_path = os.path.join(\"..\", \"processed_data\", \"obesity_cleaned.feather\")\n",
    "df = pd.read_feather(file_path)"
   ]
  },
  {
   "cell_type": "markdown",
   "id": "5b9bb133",
   "metadata": {},
   "source": [
    "## Train Test Split"
   ]
  },
  {
   "cell_type": "code",
   "execution_count": 7,
   "id": "2718ae21",
   "metadata": {},
   "outputs": [],
   "source": [
    "#Split the dataset \n",
    "X_train, X_test, y_train, y_test = train_test_split(\n",
    "    X, y, test_size=0.2, random_state=42\n",
    ")"
   ]
  },
  {
   "cell_type": "markdown",
   "id": "6e66a1bf",
   "metadata": {},
   "source": [
    "## Define encoding strategy \n",
    "\n",
    "Before applying K-Nearest Neighbors (KNN), we manually encoded categorical variables to preserve their structure and ensure compatibility with distance-based calculations.\n",
    "\n",
    "Binary variables (e.g., gender, smoking) were mapped to 0/1 for clarity and consistency. Ordinal variables (e.g., vegetable intake, physical activity) were encoded using ordered levels to reflect meaningful progression (e.g., \"Never\" < \"Sometimes\" < \"Always\"). This is essential for KNN, which relies on distances between numeric values.\n",
    "\n",
    "Encoding before scaling is crucial: scaling assumes numerical values carry meaningful distances. While ordinal steps may not be perfectly equidistant, preserving their order is far better than treating them as nominal.\n",
    "\n",
    "Ordinal encoding is also valuable because it avoids inflating the feature space. Unlike one-hot encoding, which creates multiple new columns per variable, ordinal encoding keeps dimensionality low — which is particularly important for KNN, as high-dimensional spaces can dilute the relevance of distance metrics (\"curse of dimensionality\")."
   ]
  },
  {
   "cell_type": "code",
   "execution_count": 8,
   "id": "55486373",
   "metadata": {},
   "outputs": [],
   "source": [
    "binary_map = {\n",
    "    \"gender\": {\"Female\": 0, \"Male\": 1},\n",
    "    \"family_history_overweight\": {\"yes\": 1, \"no\": 0},\n",
    "    \"high_caloric_food_freq\": {\"yes\": 1, \"no\": 0},\n",
    "    \"smokes\": {\"yes\": 1, \"no\": 0},\n",
    "    \"calorie_tracking\": {\"yes\": 1, \"no\": 0},\n",
    "}\n",
    "\n",
    "ordinal_mappings = {\n",
    "    \"vegetables_freq\": [\"Never\", \"Sometimes\", \"Always\"],\n",
    "    \"main_meal_count\": [\"Between 1 y 2\", \"Three\", \"More than three\"],\n",
    "    \"snacking_freq\": [\"no\", \"Sometimes\", \"Frequently\", \"Always\"],\n",
    "    \"water_intake\": [\"Less than a liter\", \"Between 1 and 2 L\", \"More than 2 L\"],\n",
    "    \"physical_activity_freq\": [\"I do not have\", \"1 or 2 days\", \"2 or 4 days\", \"4 or 5 days\"],\n",
    "    \"screen_time_hours\": [\"0-2 hours\", \"3-5 hours\", \"More than 5 hours\"],\n",
    "    \"alcohol_consumption_freq\": [\"no\", \"Sometimes\", \"Frequently\", \"Always\"]\n",
    "}"
   ]
  },
  {
   "cell_type": "markdown",
   "id": "997b7d09",
   "metadata": {},
   "source": [
    "## Apply the Encoding to Both Train and Test Data"
   ]
  },
  {
   "cell_type": "code",
   "execution_count": 12,
   "id": "c52b3c5c",
   "metadata": {},
   "outputs": [],
   "source": [
    "# Apply binary mapping to the binary columns\n",
    "X_train = X_train.replace(binary_map)\n",
    "X_test = X_test.replace(binary_map)\n",
    "\n",
    "# Apply ordinal mapping to the ordinal columns\n",
    "for col, order in ordinal_mappings.items():\n",
    "    encoder = OrdinalEncoder(categories=[order])\n",
    "    X_train[col] = encoder.fit_transform(X_train[[col]])\n",
    "    X_test[col] = encoder.transform(X_test[[col]])\n"
   ]
  },
  {
   "cell_type": "markdown",
   "id": "99241142",
   "metadata": {},
   "source": [
    "## Drop columns we don't want to use\n",
    "\n",
    "We considered one-hot encoding the transport_mode variable, but this would have added multiple sparse features to our dataset. Since our EDA revealed only weak correlations between transport mode and obesity level, we opted to drop this variable. This helps reduce dimensionality and avoids diluting the distance metric used by KNN."
   ]
  },
  {
   "cell_type": "code",
   "execution_count": 16,
   "id": "93f95d43",
   "metadata": {},
   "outputs": [],
   "source": [
    "X_train = X_train.drop(columns=[\"transport_mode\"])\n",
    "X_test = X_test.drop(columns=[\"transport_mode\"])"
   ]
  },
  {
   "cell_type": "markdown",
   "id": "2141770a",
   "metadata": {},
   "source": [
    "## Scale the Numerical and Ordinal Data"
   ]
  },
  {
   "cell_type": "code",
   "execution_count": 18,
   "id": "06a03471",
   "metadata": {},
   "outputs": [],
   "source": [
    "scaler = StandardScaler()\n",
    "X_train_scaled = scaler.fit_transform(X_train)\n",
    "X_test_scaled = scaler.transform(X_test)"
   ]
  },
  {
   "cell_type": "code",
   "execution_count": null,
   "id": "2d883daf",
   "metadata": {},
   "outputs": [
    {
     "data": {
      "text/html": [
       "<div>\n",
       "<style scoped>\n",
       "    .dataframe tbody tr th:only-of-type {\n",
       "        vertical-align: middle;\n",
       "    }\n",
       "\n",
       "    .dataframe tbody tr th {\n",
       "        vertical-align: top;\n",
       "    }\n",
       "\n",
       "    .dataframe thead th {\n",
       "        text-align: right;\n",
       "    }\n",
       "</style>\n",
       "<table border=\"1\" class=\"dataframe\">\n",
       "  <thead>\n",
       "    <tr style=\"text-align: right;\">\n",
       "      <th></th>\n",
       "      <th>gender</th>\n",
       "      <th>age</th>\n",
       "      <th>height_m</th>\n",
       "      <th>weight_kg</th>\n",
       "      <th>family_history_overweight</th>\n",
       "      <th>high_caloric_food_freq</th>\n",
       "      <th>vegetables_freq</th>\n",
       "      <th>main_meal_count</th>\n",
       "      <th>snacking_freq</th>\n",
       "      <th>smokes</th>\n",
       "      <th>water_intake</th>\n",
       "      <th>calorie_tracking</th>\n",
       "      <th>physical_activity_freq</th>\n",
       "      <th>screen_time_hours</th>\n",
       "      <th>alcohol_consumption_freq</th>\n",
       "    </tr>\n",
       "  </thead>\n",
       "  <tbody>\n",
       "    <tr>\n",
       "      <th>0</th>\n",
       "      <td>-1.013119</td>\n",
       "      <td>-0.532646</td>\n",
       "      <td>-0.768029</td>\n",
       "      <td>-1.019413</td>\n",
       "      <td>0.469612</td>\n",
       "      <td>0.355083</td>\n",
       "      <td>0.979868</td>\n",
       "      <td>0.237445</td>\n",
       "      <td>3.886490</td>\n",
       "      <td>6.502465</td>\n",
       "      <td>-0.016466</td>\n",
       "      <td>-0.214123</td>\n",
       "      <td>1.133519</td>\n",
       "      <td>-0.980788</td>\n",
       "      <td>0.525657</td>\n",
       "    </tr>\n",
       "    <tr>\n",
       "      <th>1</th>\n",
       "      <td>-1.013119</td>\n",
       "      <td>-0.544235</td>\n",
       "      <td>0.546078</td>\n",
       "      <td>1.802127</td>\n",
       "      <td>0.469612</td>\n",
       "      <td>0.355083</td>\n",
       "      <td>0.979868</td>\n",
       "      <td>0.237445</td>\n",
       "      <td>-0.302779</td>\n",
       "      <td>-0.153788</td>\n",
       "      <td>1.446407</td>\n",
       "      <td>-0.214123</td>\n",
       "      <td>0.002680</td>\n",
       "      <td>0.516111</td>\n",
       "      <td>0.525657</td>\n",
       "    </tr>\n",
       "    <tr>\n",
       "      <th>2</th>\n",
       "      <td>-1.013119</td>\n",
       "      <td>-0.239258</td>\n",
       "      <td>-0.427896</td>\n",
       "      <td>-0.153398</td>\n",
       "      <td>0.469612</td>\n",
       "      <td>0.355083</td>\n",
       "      <td>-2.419962</td>\n",
       "      <td>-1.766588</td>\n",
       "      <td>-0.302779</td>\n",
       "      <td>-0.153788</td>\n",
       "      <td>1.446407</td>\n",
       "      <td>-0.214123</td>\n",
       "      <td>-1.128159</td>\n",
       "      <td>2.013009</td>\n",
       "      <td>0.525657</td>\n",
       "    </tr>\n",
       "    <tr>\n",
       "      <th>3</th>\n",
       "      <td>-1.013119</td>\n",
       "      <td>-0.403229</td>\n",
       "      <td>-1.217973</td>\n",
       "      <td>-1.623588</td>\n",
       "      <td>-2.129419</td>\n",
       "      <td>-2.816242</td>\n",
       "      <td>0.979868</td>\n",
       "      <td>-1.766588</td>\n",
       "      <td>1.791856</td>\n",
       "      <td>-0.153788</td>\n",
       "      <td>1.446407</td>\n",
       "      <td>-0.214123</td>\n",
       "      <td>0.002680</td>\n",
       "      <td>-0.980788</td>\n",
       "      <td>-1.411698</td>\n",
       "    </tr>\n",
       "    <tr>\n",
       "      <th>4</th>\n",
       "      <td>0.987051</td>\n",
       "      <td>0.238722</td>\n",
       "      <td>1.179597</td>\n",
       "      <td>0.745216</td>\n",
       "      <td>0.469612</td>\n",
       "      <td>0.355083</td>\n",
       "      <td>0.979868</td>\n",
       "      <td>0.237445</td>\n",
       "      <td>-0.302779</td>\n",
       "      <td>-0.153788</td>\n",
       "      <td>1.446407</td>\n",
       "      <td>-0.214123</td>\n",
       "      <td>1.133519</td>\n",
       "      <td>0.516111</td>\n",
       "      <td>0.525657</td>\n",
       "    </tr>\n",
       "  </tbody>\n",
       "</table>\n",
       "</div>"
      ],
      "text/plain": [
       "     gender       age  height_m  weight_kg  family_history_overweight  \\\n",
       "0 -1.013119 -0.532646 -0.768029  -1.019413                   0.469612   \n",
       "1 -1.013119 -0.544235  0.546078   1.802127                   0.469612   \n",
       "2 -1.013119 -0.239258 -0.427896  -0.153398                   0.469612   \n",
       "3 -1.013119 -0.403229 -1.217973  -1.623588                  -2.129419   \n",
       "4  0.987051  0.238722  1.179597   0.745216                   0.469612   \n",
       "\n",
       "   high_caloric_food_freq  vegetables_freq  main_meal_count  snacking_freq  \\\n",
       "0                0.355083         0.979868         0.237445       3.886490   \n",
       "1                0.355083         0.979868         0.237445      -0.302779   \n",
       "2                0.355083        -2.419962        -1.766588      -0.302779   \n",
       "3               -2.816242         0.979868        -1.766588       1.791856   \n",
       "4                0.355083         0.979868         0.237445      -0.302779   \n",
       "\n",
       "     smokes  water_intake  calorie_tracking  physical_activity_freq  \\\n",
       "0  6.502465     -0.016466         -0.214123                1.133519   \n",
       "1 -0.153788      1.446407         -0.214123                0.002680   \n",
       "2 -0.153788      1.446407         -0.214123               -1.128159   \n",
       "3 -0.153788      1.446407         -0.214123                0.002680   \n",
       "4 -0.153788      1.446407         -0.214123                1.133519   \n",
       "\n",
       "   screen_time_hours  alcohol_consumption_freq  \n",
       "0          -0.980788                  0.525657  \n",
       "1           0.516111                  0.525657  \n",
       "2           2.013009                  0.525657  \n",
       "3          -0.980788                 -1.411698  \n",
       "4           0.516111                  0.525657  "
      ]
     },
     "execution_count": 21,
     "metadata": {},
     "output_type": "execute_result"
    }
   ],
   "source": [
    "# quick check of the scaled data\n",
    "X_train_scaled_df = pd.DataFrame(X_train_scaled, columns=X_train.columns)\n",
    "X_train_scaled_df.head()"
   ]
  },
  {
   "cell_type": "markdown",
   "id": "cb493e55",
   "metadata": {},
   "source": [
    "## Tune k for KNN (No PCA)"
   ]
  },
  {
   "cell_type": "code",
   "execution_count": 33,
   "id": "80a5dad0",
   "metadata": {},
   "outputs": [
    {
     "data": {
      "image/png": "[encoded data removed]",
      "text/plain": [
       "<Figure size 640x480 with 1 Axes>"
      ]
     },
     "metadata": {},
     "output_type": "display_data"
    },
    {
     "name": "stdout",
     "output_type": "stream",
     "text": [
      "Best k (no PCA): 1, Test Accuracy: 0.7754\n"
     ]
    }
   ],
   "source": [
    "# Tune k using 5-fold CV\n",
    "k_values = range(1, 20)\n",
    "cv_scores = []\n",
    "\n",
    "for k in k_values:\n",
    "    knn = KNeighborsClassifier(n_neighbors=k)\n",
    "    scores = cross_val_score(knn, X_train_scaled, y_train, cv=5)\n",
    "    cv_scores.append(scores.mean())\n",
    "\n",
    "# Plot CV accuracy vs k\n",
    "plt.plot(k_values, cv_scores, marker='o')\n",
    "plt.xlabel('k (Number of Neighbors)')\n",
    "plt.ylabel('Cross-Validated Accuracy')\n",
    "plt.title('KNN (No PCA): Accuracy vs k')\n",
    "plt.grid(True)\n",
    "plt.show()\n",
    "\n",
    "# Pick best k and evaluate on test set\n",
    "best_k = k_values[np.argmax(cv_scores)]\n",
    "knn_final = KNeighborsClassifier(n_neighbors=best_k)\n",
    "knn_final.fit(X_train_scaled, y_train)\n",
    "test_acc_knn = knn_final.score(X_test_scaled, y_test)\n",
    "print(f\"Best k (no PCA): {best_k}, Test Accuracy: {test_acc_knn:.4f}\")"
   ]
  },
  {
   "cell_type": "markdown",
   "id": "9df7b1c8",
   "metadata": {},
   "source": [
    "## Final KNN with Best k (No PCA)"
   ]
  },
  {
   "cell_type": "code",
   "execution_count": 38,
   "id": "177ffe11",
   "metadata": {},
   "outputs": [
    {
     "name": "stdout",
     "output_type": "stream",
     "text": [
      "Best k (with PCA): 1, n_components: 15, Test Accuracy: 0.7754\n"
     ]
    }
   ],
   "source": [
    "from sklearn.pipeline import Pipeline\n",
    "from sklearn.model_selection import GridSearchCV\n",
    "from sklearn.decomposition import PCA\n",
    "\n",
    "pipe = Pipeline([\n",
    "    ('pca', PCA()),\n",
    "    ('knn', KNeighborsClassifier())\n",
    "])\n",
    "\n",
    "param_grid = {\n",
    "    'pca__n_components': [5, 10, 15],  # Or fix to a value if you prefer\n",
    "    'knn__n_neighbors': range(1, 21)\n",
    "}\n",
    "\n",
    "grid = GridSearchCV(pipe, param_grid, cv=5)\n",
    "grid.fit(X_train_scaled, y_train)\n",
    "\n",
    "# Best model and its test accuracy\n",
    "best_model = grid.best_estimator_\n",
    "test_acc_pca_knn = best_model.score(X_test_scaled, y_test)\n",
    "\n",
    "print(f\"Best k (with PCA): {grid.best_params_['knn__n_neighbors']}, \"\n",
    "      f\"n_components: {grid.best_params_['pca__n_components']}, \"\n",
    "      f\"Test Accuracy: {test_acc_pca_knn:.4f}\")"
   ]
  },
  {
   "cell_type": "markdown",
   "id": "513acd81",
   "metadata": {},
   "source": [
    "The best test accuracy with PCA turned out to be identical to the result without PCA (0.7754).  \n",
    "This indicates that the selected number of principal components (15) preserved nearly all the variance from the original feature space.  \n",
    "In other words, PCA did not meaningfully reduce the information content in the data, which explains why model performance remained unchanged.  "
   ]
  },
  {
   "cell_type": "markdown",
   "id": "868bf5a4",
   "metadata": {},
   "source": [
    "### Feature Exclusion: Weight, Height, and Age\n",
    "\n",
    "In this section, I excluded the features `weight_kg`, `height_m`, and `age` from the KNN model based on both theoretical and empirical considerations.\n",
    "\n",
    "#### 1. Excluding `weight_kg` and `height_m`\n",
    "\n",
    "The target variable `obesity_level` is directly derived from the Body Mass Index (BMI), calculated as:\n",
    "\n",
    "${BMI} = \\frac{\\text{weight (kg)}}{(\\text{height (m)})^2}$\n",
    "\n",
    "Including either `weight_kg` or `height_m` would effectively leak information used to define the target itself into the model. This introduces circular reasoning and undermines the goal of assessing which features are genuinely predictive. For this reason, both were excluded to preserve the validity of the modeling exercise.\n",
    "\n",
    "#### 2. Excluding `age`\n",
    "\n",
    "The EDA revealed that while age shows **mild variation** across obesity categories, the overall distribution is skewed toward younger individuals (late teens to late twenties), and there's substantial **overlap across all obesity levels**. Boxplots confirmed that age may be only a **secondary predictor at best**, contributing little to the discriminative power of a KNN model. Therefore, age was also excluded in order to focus on features that may offer more actionable insight.\n",
    "\n",
    "#### Policy Implications\n",
    "\n",
    "From a public policy perspective, it may be more meaningful to focus prediction efforts on **behavioral and lifestyle features**—such as dietary habits, physical activity, and screen time—rather than biometric variables like weight or age. These lifestyle variables are not only more **modifiable** through interventions but also more **accessible** through self-reported surveys or digital tools. Models that can predict obesity risk based on these factors may help design **targeted preventive strategies** and promote **healthier behaviors** across populations."
   ]
  },
  {
   "cell_type": "code",
   "execution_count": 43,
   "id": "f82f8b63",
   "metadata": {},
   "outputs": [
    {
     "data": {
      "image/png": "[encoded data removed]",
      "text/plain": [
       "<Figure size 640x480 with 1 Axes>"
      ]
     },
     "metadata": {},
     "output_type": "display_data"
    },
    {
     "name": "stdout",
     "output_type": "stream",
     "text": [
      "Best k (reduced): 3, Test Accuracy: 0.5934\n"
     ]
    }
   ],
   "source": [
    "### 1. Drop 'age' and 'height_m' from the training and test sets\n",
    "X_train_reduced = X_train.drop(columns=['height_m', 'weight_kg', 'age'])\n",
    "X_test_reduced = X_test.drop(columns=['height_m', 'weight_kg', 'age'])\n",
    "\n",
    "### 2. Scale the reduced feature sets\n",
    "scaler = StandardScaler()\n",
    "X_train_reduced_scaled = scaler.fit_transform(X_train_reduced)\n",
    "X_test_reduced_scaled = scaler.transform(X_test_reduced)\n",
    "\n",
    "### 3. Tune k again using 5-fold CV on the reduced set\n",
    "cv_scores_reduced = []\n",
    "k_values = range(1, 21)\n",
    "\n",
    "for k in k_values:\n",
    "    knn = KNeighborsClassifier(n_neighbors=k)\n",
    "    scores = cross_val_score(knn, X_train_reduced_scaled, y_train, cv=5)\n",
    "    cv_scores_reduced.append(scores.mean())\n",
    "\n",
    "### 4. Plot the new CV results\n",
    "plt.plot(k_values, cv_scores_reduced, marker='o')\n",
    "plt.xlabel('k (Number of Neighbors)')\n",
    "plt.ylabel('Cross-Validated Accuracy')\n",
    "plt.title('KNN (Reduced Features): Accuracy vs k')\n",
    "plt.grid(True)\n",
    "plt.show()\n",
    "\n",
    "### 5. Fit final model with best k and evaluate on test set\n",
    "best_k_reduced = k_values[np.argmax(cv_scores_reduced)]\n",
    "knn_final_reduced = KNeighborsClassifier(n_neighbors=best_k_reduced)\n",
    "knn_final_reduced.fit(X_train_reduced_scaled, y_train)\n",
    "test_acc_reduced = knn_final_reduced.score(X_test_reduced_scaled, y_test)\n",
    "\n",
    "print(f\"Best k (reduced): {best_k_reduced}, Test Accuracy: {test_acc_reduced:.4f}\")\n"
   ]
  }
 ],
 "metadata": {
  "kernelspec": {
   "display_name": "Python 3 (ipykernel)",
   "language": "python",
   "name": "python3"
  },
  "language_info": {
   "codemirror_mode": {
    "name": "ipython",
    "version": 3
   },
   "file_extension": ".py",
   "mimetype": "text/x-python",
   "name": "python",
   "nbconvert_exporter": "python",
   "pygments_lexer": "ipython3",
   "version": "3.13.2"
  }
 },
 "nbformat": 4,
 "nbformat_minor": 5
}
