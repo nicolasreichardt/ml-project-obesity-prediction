{
 "cells": [
  {
   "cell_type": "code",
   "execution_count": null,
   "metadata": {},
   "outputs": [],
   "source": [
    "import pandas as pd\n",
    "from sklearn.preprocessing import StandardScaler\n",
    "from sklearn.model_selection import train_test_split\n",
    "import os\n",
    "\n",
    "file_path = os.path.join(\"..\", \"processed_data\", \"obesity_cleaned.feather\")\n",
    "df = pd.read_feather(file_path)\n",
    "\n",
    "#Define target and features \n",
    "target_col = \"obesity_level\"\n",
    "y = df[target_col] #keep as categorical for multi-class classification\n",
    "X = df.drop(columns=[target_col])\n",
    "\n",
    "#Split the dataset \n",
    "X_train, X_test, y_train, y_test = train_test_split(\n",
    "    X, y, test_size=0.2, random_state=42\n",
    ")\n",
    "\n",
    "# Concatenate features with target variable for train and test sets\n",
    "train_data = pd.concat([X_train, y_train], axis=1)\n",
    "test_data = pd.concat([X_test, y_test], axis=1)\n",
    "\n",
    "# Save to CSV\n",
    "train_data.to_csv(os.path.join(\"..\", \"processed_data\", \"train_data.csv\"), index=False)\n",
    "test_data.to_csv(os.path.join(\"..\", \"processed_data\", \"test_data.csv\"), index=False)\n",
    "\n",
    "# Save to Feather\n",
    "train_data.to_feather(os.path.join(\"..\", \"processed_data\", \"train_data.feather\"))\n",
    "test_data.to_feather(os.path.join(\"..\", \"processed_data\", \"test_data.feather\"))"
   ]
  }
 ],
 "metadata": {
  "language_info": {
   "name": "python"
  }
 },
 "nbformat": 4,
 "nbformat_minor": 2
}
