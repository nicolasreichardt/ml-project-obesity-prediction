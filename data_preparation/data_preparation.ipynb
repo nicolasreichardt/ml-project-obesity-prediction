{
 "cells": [
  {
   "cell_type": "code",
   "execution_count": null,
   "id": "6b6c8a1a-bcb3-4181-ba00-4e13f469b9d1",
   "metadata": {},
   "outputs": [],
   "source": [
    "import pandas as pd\n",
    "from sklearn.preprocessing import StandardScaler\n",
    "from sklearn.model_selection import train_test_split\n",
    "import os\n",
    "\n",
    "# Use a relative path to load the data\n",
    "# ⚠️ This assumes the script is run from the root of the repo (where ML.py is located) on your local machine\n",
    "# and that the CSV file is inside the 'raw_data/' folder.\n",
    "\n",
    "file_path = os.path.join(\"raw_data\", \"obesity_prediction.csv\")\n",
    "df = pd.read_csv(file_path)\n",
    "\n",
    "#Define target and features \n",
    "target_col = \"obesity_level\"\n",
    "y = df[target_col] #keep as categorical for multi-class classification\n",
    "X = df.drop(columns=[target_col])\n",
    "\n",
    "categorical_cols = [\n",
    "    \"gender\", \"family_history_overweight\", \"high_caloric_food_freq\", \"snacking_freq\", \"smokes\",\n",
    "    \"calorie_tracking\", \"alcohol_consumption_freq\", \"transport_mode\", \"obesity_level\"\n",
    "]\n",
    "\n",
    "#perform hot-one encoding \n",
    "X_encoded = pd.get_dummies(X, columns=categorical_cols, drop_first=True)\n",
    "\n",
    "#Split the dataset \n",
    "X_train, X_test, y_train, y_test = train_test_split(\n",
    "    X_encoded, y, test_size=0.2, random_state=42\n",
    ")\n",
    "\n",
    "#scale (fit only on training data)\n",
    "scaler = StandardScaler()\n",
    "X_train_scaled = scaler.fit_transform(X_train)\n",
    "X_test_scaled = scaler.transform(X_test)\n",
    "\n",
    "# Check the result\n",
    "print(\"Training set shape:\", X_train_scaled.shape)\n",
    "print(\"Testing set shape:\", X_test_scaled.shape)\n",
    "\n",
    "#Combine the features and labels for export \n",
    "train_data = pd.concat([X_train_scaled, y_train.reset_index(drop = True)], axis = 1)\n",
    "test_data = pd.concat([X_test_scaled, y_test.reset_index(drop = True)], axis = 1)\n",
    "\n",
    "#Save to CSV\n",
    "train_data.to_csv(\"processed_data/train_data.csv\", index=False)\n",
    "test_data.to_csv(\"processed_data/test_data.csv\", index=False)\n",
    "\n",
    "print(\"Training and testing data saved to 'processed_data/' folder.\")"
   ]
  }
 ],
 "metadata": {
  "kernelspec": {
   "display_name": "Python 3 (ipykernel)",
   "language": "python",
   "name": "python3"
  },
  "language_info": {
   "codemirror_mode": {
    "name": "ipython",
    "version": 3
   },
   "file_extension": ".py",
   "mimetype": "text/x-python",
   "name": "python",
   "nbconvert_exporter": "python",
   "pygments_lexer": "ipython3",
   "version": "3.12.9"
  }
 },
 "nbformat": 4,
 "nbformat_minor": 5
}
